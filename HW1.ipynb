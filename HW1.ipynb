{
  "nbformat": 4,
  "nbformat_minor": 0,
  "metadata": {
    "colab": {
      "provenance": [],
      "authorship_tag": "ABX9TyMecu/vfbR7xs4G9CwIYGPL",
      "include_colab_link": true
    },
    "kernelspec": {
      "name": "python3",
      "display_name": "Python 3"
    },
    "language_info": {
      "name": "python"
    }
  },
  "cells": [
    {
      "cell_type": "markdown",
      "metadata": {
        "id": "view-in-github",
        "colab_type": "text"
      },
      "source": [
        "<a href=\"https://colab.research.google.com/github/EugeneSoldatenko/Data-Science-learning/blob/main/HW1.ipynb\" target=\"_parent\"><img src=\"https://colab.research.google.com/assets/colab-badge.svg\" alt=\"Open In Colab\"/></a>"
      ]
    },
    {
      "cell_type": "markdown",
      "source": [
        "Напишите программу, которая принимает от пользователя целое число и выводит таблицу умножения для этого числа от 1 до 10"
      ],
      "metadata": {
        "id": "7tAPigjeMoT7"
      }
    },
    {
      "cell_type": "code",
      "source": [
        "# Ввод числа от пользователя\n",
        "n = int(input(\"Введите целое число: \"))\n",
        "\n",
        "# Вывод таблицы умножения\n",
        "for i in range(1, 11):\n",
        "    print(f\"{n} x {i} = {n * i}\")"
      ],
      "metadata": {
        "colab": {
          "base_uri": "https://localhost:8080/"
        },
        "id": "_GzY6RYxM6eq",
        "outputId": "0f858646-c93d-4ca9-bdba-c7755e58038e"
      },
      "execution_count": 2,
      "outputs": [
        {
          "output_type": "stream",
          "name": "stdout",
          "text": [
            "Введите целое число: 5\n",
            "5 x 1 = 5\n",
            "5 x 2 = 10\n",
            "5 x 3 = 15\n",
            "5 x 4 = 20\n",
            "5 x 5 = 25\n",
            "5 x 6 = 30\n",
            "5 x 7 = 35\n",
            "5 x 8 = 40\n",
            "5 x 9 = 45\n",
            "5 x 10 = 50\n"
          ]
        }
      ]
    },
    {
      "cell_type": "markdown",
      "source": [
        "Оценка сложности\n",
        "\n",
        "Цикл выполняется 10 раз, независимо от введенного числа.\n",
        "\n",
        "Временная сложность: O(1) (константная), так как количество итераций фиксировано."
      ],
      "metadata": {
        "id": "torYsbcRNGoF"
      }
    }
  ]
}